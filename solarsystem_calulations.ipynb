{
 "cells": [
  {
   "cell_type": "code",
   "execution_count": 6,
   "metadata": {},
   "outputs": [
    {
     "data": {
      "text/plain": [
       "29.835294169376336"
      ]
     },
     "execution_count": 6,
     "metadata": {},
     "output_type": "execute_result"
    }
   ],
   "source": [
    "from astroquery.jplhorizons import Horizons\n",
    "earth = Horizons(3)\n",
    "earthelements = earth.elements()\n",
    "earthephemerides = earth.ephemerides()\n",
    "earthvectors = earth.vectors()\n",
    "\n",
    "import os\n",
    "os.chdir(r\"c:/Users/micha/OneDrive/Desktop/\")\n",
    "from vectorclass import Vector\n",
    "pos_vector = Vector(*[0.9636433365004354\t, 0.2637489304023757, \t-1.875334083261667e-5])\n",
    "import math\n",
    "math.sqrt((0.9636433365004354**2) +((0.2637489304023757)** 2) + ((-1.875334083261667e-5) ** 2))\n",
    "pos_vector.get_magnitude() \n",
    "speedvector = Vector(earthvectors[\"vx\"], earthvectors[\"vy\"], earthvectors[\"vz\"])\n",
    "speedvector.get_magnitude()\n",
    "\n",
    "\n",
    "math.sqrt((earthvectors[\"vx\"])**2 +(earthvectors[\"vy\"]** 2) + (earthvectors[\"vz\"] ** 2))  *  1.496e+8 / 86400 # convert form au/d to km/s\n"
   ]
  },
  {
   "cell_type": "markdown",
   "metadata": {},
   "source": [
    "### Comparing JLP to spiceypy\n"
   ]
  },
  {
   "cell_type": "code",
   "execution_count": 7,
   "metadata": {},
   "outputs": [
    {
     "name": "stdout",
     "output_type": "stream",
     "text": [
      "comparing the xyz postion and range between spiceypy and JPL\n",
      "2677.0044373571873\n",
      "-1324.8098164200783\n",
      "0.1600827863981067\n",
      "-2160.159504264593\n",
      "comparing the xyz velocities and angular velocity between spiceypy and JPL and theoretical  law\n",
      "0.0002576322633345285\n",
      "0.0005244862688122964\n",
      "1.6356543254807815e-08\n",
      "29.817490416628612 29.817907501800644 29.80761152654426\n"
     ]
    }
   ],
   "source": [
    "import spiceypy\n",
    "import datetime\n",
    "from astropy.time import Time\n",
    "from astroquery.jplhorizons import Horizons\n",
    "import astropy.units as u\n",
    "import os\n",
    "\n",
    "kerneldir = r\"c:/Users/micha/OneDrive/Desktop/kernels\"\n",
    "os.chdir(r\"c:/Users/micha/OneDrive/Desktop/kernels\")\n",
    "for i in os.listdir():\n",
    "    filename = (os.path.join(kerneldir,i ))\n",
    "    spiceypy.furnsh(filename)\n",
    "\n",
    "\n",
    "comparison_target = 399\n",
    "\n",
    "'''\n",
    "INIT_TIME_UTC = datetime.datetime(year=2000, month=1, day=1, \\\n",
    "                                  hour=0, minute=0, second=0)\n",
    "DELTA_DAYS = 10000\n",
    "END_TIME_UTC = INIT_TIME_UTC + datetime.timedelta(days=DELTA_DAYS)\n",
    "INIT_TIME_UTC_STR = INIT_TIME_UTC.strftime('%Y-%m-%dT%H:%M:%S')\n",
    "END_TIME_UTC_STR = END_TIME_UTC.strftime('%Y-%m-%dT%H:%M:%S')\n",
    "INIT_TIME_ET = spiceypy.utc2et(INIT_TIME_UTC_STR)\n",
    "END_TIME_ET = spiceypy.utc2et(END_TIME_UTC_STR)\n",
    "TIME_INTERVAL_ET = np.linspace(INIT_TIME_ET, END_TIME_ET, DELTA_DAYS)\n",
    "\n",
    "'''\n",
    "\n",
    "_, RADII_SUN = spiceypy.bodvcd(bodyid=10, item='RADII', maxn=3)\n",
    "RADIUS_SUN = RADII_SUN[0]\n",
    "\n",
    "au = 1.496e+8  # km\n",
    "\n",
    "DATE_TODAY = datetime.datetime.today() # or datetime.datetime.now()\n",
    "midnight = DATE_TODAY.strftime('%Y-%m-%dT00:00:00')\n",
    "ET_TODAY_MIDNIGHT = spiceypy.utc2et(midnight)\n",
    "onehourlater = datetime.datetime.fromisoformat(midnight).timestamp() + 3600 \n",
    "endtime = (datetime.datetime.fromtimestamp(onehourlater))\n",
    "epochs = {'start': str(midnight), 'stop': str(endtime), 'step': \"1h\"}\n",
    "\n",
    "# SPICEY DATA\n",
    "EARTH_STATE_WRT_SUN, EARTH_SUN_LIGHT_TIME = spiceypy.spkgeo(targ=comparison_target, et=ET_TODAY_MIDNIGHT, ref='ECLIPJ2000', obs=10)\n",
    "# JET PROPULTION LAB DATA \n",
    "earth_vector = (Horizons(id=comparison_target, location=\"@10\", epochs=epochs).vectors())\n",
    "\n",
    "\n",
    "EARTH_SUN_DISTANCE = Vector(*EARTH_STATE_WRT_SUN[:3]).get_magnitude()\n",
    "EARTH_SUN_angular_velocity = Vector(*EARTH_STATE_WRT_SUN[3:]).get_magnitude()\n",
    "EARTH_SUN_angular_velocity_2 = math.sqrt((  (earth_vector[0][\"vx\"] *(au/86400) )**2.0) + ((earth_vector[0][\"vy\"] * (au/86400))**2.0) + ((earth_vector[0][\"vz\"] * (au/86400))**2.0))\n",
    "\n",
    "\n",
    "#EARTH_SUN_DISTANCE = math.sqrt(EARTH_STATE_WRT_SUN[0]**2.0 + EARTH_STATE_WRT_SUN[1]**2.0 + EARTH_STATE_WRT_SUN[2]**2.0)\n",
    "#EARTH_SUN_DISTANCE_AU = spiceypy.convrt(EARTH_SUN_DISTANCE, 'km', 'AU')\n",
    "#EARTH_SUN_angular_velocity = math.sqrt(EARTH_STATE_WRT_SUN[3]**2.0 + EARTH_STATE_WRT_SUN[4]**2.0 + EARTH_STATE_WRT_SUN[5]**2.0)\n",
    "\n",
    "print(\"comparing the xyz postion and range between spiceypy and JPL\")\n",
    "print((earth_vector[0][\"x\"] * au ) - (EARTH_STATE_WRT_SUN[0]) ) \n",
    "print((earth_vector[0][\"y\"] * au) -(EARTH_STATE_WRT_SUN[1]))\n",
    "print((earth_vector[0][\"z\"] * au )- (EARTH_STATE_WRT_SUN[2]))\n",
    "print((EARTH_SUN_DISTANCE) - (earth_vector[0][\"range\"]) * au)\n",
    "\n",
    "_, GM_SUN = spiceypy.bodvcd(bodyid=10, item='GM', maxn=1)\n",
    "V_ORB_FUNC = lambda gm, r: math.sqrt(gm/r)\n",
    "EARTH_ORB_SPEED_WRT_SUN_THEORY = V_ORB_FUNC(GM_SUN[0], EARTH_SUN_DISTANCE)\n",
    "\n",
    "\n",
    "print(\"comparing the xyz velocities and angular velocity between spiceypy and JPL and theoretical  law\")\n",
    "\n",
    "print((earth_vector[0][\"vx\"] * (au/86400) ) - (EARTH_STATE_WRT_SUN[3]) ) # km per second\n",
    "print((earth_vector[0][\"vy\"] * (au/86400) ) - (EARTH_STATE_WRT_SUN[4]))\n",
    "print((earth_vector[0][\"vz\"] * (au/86400) )-  (EARTH_STATE_WRT_SUN[5]))\n",
    "print(  EARTH_SUN_angular_velocity,  EARTH_SUN_angular_velocity_2, EARTH_ORB_SPEED_WRT_SUN_THEORY )\n",
    "\n"
   ]
  },
  {
   "cell_type": "markdown",
   "metadata": {},
   "source": [
    "### orbital velocity vector problem"
   ]
  },
  {
   "cell_type": "code",
   "execution_count": 8,
   "metadata": {},
   "outputs": [
    {
     "name": "stdout",
     "output_type": "stream",
     "text": [
      "wrong the velocity vector is not the position vector 28.451356661918094i + 8.888259641061111j + -0.0005926257765418207k\n",
      "correct -9.361080054035714i + 28.310382931877463j + -0.002501666445675597k\n"
     ]
    }
   ],
   "source": [
    "postion_vector_jpl = Vector(*[a[0][\"x\"] , a[0][\"y\"]  , a[0][\"z\"] ])\n",
    "orbital_velocity = V_ORB_FUNC(GM_SUN[0], (postion_vector_jpl  * au).get_magnitude())  # # r is jpl r in au then converted to km by multiplying by au\n",
    "\n",
    "print(\"wrong the velocity vector is not the position vector\",postion_vector_jpl.normalize() * orbital_velocity )\n",
    "print(\"correct\",Vector(*[a[0][\"vx\"] , a[0][\"vy\"]  , a[0][\"vz\"] ]) * au/86400)"
   ]
  },
  {
   "cell_type": "code",
   "execution_count": 9,
   "metadata": {},
   "outputs": [
    {
     "name": "stdout",
     "output_type": "stream",
     "text": [
      "364.4043154101694\n",
      "364.4228903763746\n",
      "        P        \n",
      "        d        \n",
      "-----------------\n",
      "364.7933956875075\n"
     ]
    }
   ],
   "source": [
    "## Orbital Period Equation\n",
    "\n",
    "massofsun = 1.989 * 10**30\n",
    "G = 6.673 * 10**-11 # m3 kg−1 s−2\n",
    "radius_of_earth =6.37 * 10**6 # meters\n",
    "\n",
    "r  = Vector(*[a[0][\"x\"] , a[0][\"y\"]  , a[0][\"z\"] ]).get_magnitude() * au * 1000 # in meters \n",
    "T = math.sqrt (   (4 * math.pi**2 * r**3) / (G*massofsun)   ) \n",
    "print(T / 86400)   # seconds to days conversion factor\n",
    "T = math.sqrt (   (4 * math.pi**2 * r**3) / (GM_SUN[0] *10**9)   ) # GM_sun is in km while r is in m\n",
    "print(T / 86400)  \n",
    "\n",
    "print(Horizons(399).elements()[\"P\"])\n",
    "\n",
    "# a geostationary satellite completes one orbit per day above the equator, or 360 degrees per 24 hours, and has angular velocity ω = (360°)/(24 h) = 15°/h, or (2π rad)/(24 h) ≈ 0.26 rad/h\n",
    "# If angle is measured in radians, the linear velocity v is the radius r times the angular velocity, v=rω\n",
    "# for the satalite at r = 42,000 km from the earth's center, the satellite's speed through space is thus v = 42,000 km × 0.26 rad/h ≈ 11,000 km/h.\n"
   ]
  },
  {
   "cell_type": "code",
   "execution_count": 10,
   "metadata": {},
   "outputs": [],
   "source": [
    "acceleration_step = 1 # second\n",
    "\n",
    "class SolarSystem:\n",
    "    def __init__(self):\n",
    "        self.bodies = []\n",
    "\n",
    "    def add_body(self, body):\n",
    "        self.bodies.append(body)\n",
    "    def update_all(self):\n",
    "        self.bodies.sort(key=lambda item: item.position[0])\n",
    "        for body in self.bodies:\n",
    "            body.move()\n",
    "    def calculate_all_body_interactions(self):\n",
    "        bodies_copy = self.bodies.copy()\n",
    "        for idx, first in enumerate(bodies_copy):\n",
    "            for second in bodies_copy[idx + 1:]:\n",
    "                first.accelerate_due_to_gravity(second)\n",
    "\n",
    "class SolarSystemBody:\n",
    "    def __init__(self,solar_system,mass,position=(0, 0, 0),velocity=(0, 0, 0),):\n",
    "        self.solar_system = solar_system\n",
    "        self.mass = mass\n",
    "        self.position = position\n",
    "        self.velocity = Vector(*velocity)\n",
    "        self.solar_system.add_body(self)\n",
    "    def move(self):\n",
    "        self.position = (\n",
    "            self.position[0] + self.velocity[0],\n",
    "            self.position[1] + self.velocity[1],\n",
    "            self.position[2] + self.velocity[2],\n",
    "        )\n",
    "\n",
    "    def accelerate_due_to_gravity(self, other):\n",
    "        global gravitational_constant \n",
    "        distance = Vector(*other.position) - Vector(*self.position)\n",
    "        distance_mag = distance.get_magnitude()\n",
    "        force_mag = gravitational_constant * (self.mass * other.mass / (distance_mag ** 2))\n",
    "        force = distance.normalize() * force_mag \n",
    "        reverse = 1\n",
    "        for body in self, other:\n",
    "            acceleration = force / (body.mass/acceleration_step)          # accelaration in a day  # 86400\n",
    "            body.velocity += acceleration * reverse\n",
    "            reverse = -1\n",
    "\n",
    "class Sun(SolarSystemBody):\n",
    "    def __init__(self,solar_system,mass=10_000,position=(0, 0, 0),velocity=(0, 0, 0),):\n",
    "        super(Sun, self).__init__(solar_system, mass, position, velocity)\n",
    "\n",
    "class Planet(SolarSystemBody):\n",
    "    def __init__(self,solar_system,mass=10_000,position=(0, 0, 0),velocity=(0, 0, 0),):\n",
    "        super(Planet, self).__init__(solar_system, mass, position, velocity)\n",
    "\n"
   ]
  },
  {
   "cell_type": "code",
   "execution_count": 11,
   "metadata": {},
   "outputs": [
    {
     "name": "stdout",
     "output_type": "stream",
     "text": [
      "2673.757827758789i + -10673.611541748047j + -1113.184518814087k\n",
      "2107.7853240966797i + 358.8281669616699j + -112.73599147796631k\n",
      "-1091.666015625i + -339.50852966308594j + 3.8390394574962556k\n",
      "-424.5888671875i + -322.8360900878906j + 5.324418783187866k\n",
      "131.5081787109375i + -36.12354278564453j + -1.7771663665771484k\n",
      "174.925048828125i + -47.4443359375j + -2.8561134338378906k\n",
      "154.551025390625i + 16.6982421875j + -2.0159912109375k\n",
      "148.884765625i + 12.42926025390625j + -1.96234130859375k\n",
      "150.2998046875i + 14.412109375j + -1.91461181640625k\n"
     ]
    }
   ],
   "source": [
    "## extremely inaccurate analytical calculation of the solar system  \n",
    "\n",
    "\n",
    "acceleration_step = 1 # second\n",
    "number_of_steps = 36000 # \n",
    "\n",
    "DATE_TODAY = datetime.datetime.today() # or datetime.datetime.now()\n",
    "midnight = DATE_TODAY.strftime('%Y-%m-%dT00:00:00')\n",
    "ET_TODAY_MIDNIGHT = spiceypy.utc2et(midnight)\n",
    "later = datetime.datetime.fromisoformat(midnight).timestamp() + number_of_steps+1\n",
    "endtime = (datetime.datetime.fromtimestamp(later))\n",
    "epo = {'start': str(midnight), 'stop': str(endtime), 'step': \"1h\"}\n",
    "\n",
    "index_of_result = int(number_of_steps*acceleration_step / 3600) # 60 is seconds in 1m\n",
    "\n",
    "au = 1.496e11\n",
    "gravitational_constant = 6.6743 * 10**-11  #* 2.98692e-34\n",
    "sunmass = 1.989 * 10**30 \n",
    "moonmass = 7.34767309 * 10**22 #kilograms\n",
    "\n",
    "namelist = [ \"MERCURY\" ,\"VENUS\" ,\"EARTH\", \"MOON\", \"MARS\",\"JUPITER\",\"SATURN\",\"URANUS\", \"NEPTUNE\",\"PLUTO\" ]\n",
    "masslist = [0.330,4.87,5.97 ,0.073,0.642,1898,568,86.8,102,0.0130] # 10**24\n",
    "#idlist = [199,299,399,499,599,699,799,899,999]  # barycenters location \n",
    "idlist = list(range(1,10))\n",
    "\n",
    "central_location = \"@10\"\n",
    "\n",
    "\n",
    "solar_system = SolarSystem()\n",
    "Sun(solar_system, mass=sunmass , position=(0, 0, 0), velocity=(0, 0, 0))\n",
    "\n",
    "\n",
    "def add_planet(i):\n",
    "    end_vector_dict, planet_instence_dict = {}, {}\n",
    "    planet_vector = (Horizons(idlist[i],location=central_location, epochs=epo)).vectors()\n",
    "    postion_vector  =Vector(*[planet_vector[\"x\"][0],planet_vector[\"y\"][0],planet_vector[\"z\"][0]]) * au\n",
    "    velocity_vector = Vector(*[planet_vector[\"vx\"][0],planet_vector[\"vy\"][0],planet_vector[\"vz\"][0]]) * au/86400\n",
    "    planet_name = namelist[i]\n",
    "    end_vector = Vector(planet_vector[\"x\"][index_of_result] *au   ,(planet_vector[\"y\"][index_of_result]) * au,(planet_vector[\"z\"][index_of_result]) * au)\n",
    "    planet = Planet(solar_system, masslist[i] * 10**24, position=postion_vector, velocity= velocity_vector)\n",
    "    return end_vector, planet\n",
    "\n",
    "\n",
    "results = []\n",
    "for i in range(len(idlist)):\n",
    "    end_vector, planet = add_planet(i)\n",
    "    planetset = {}\n",
    "    planetset[planet] = (end_vector)\n",
    "    results.append(planetset)\n",
    "\n",
    "for i in range(number_of_steps):\n",
    "       solar_system.calculate_all_body_interactions()\n",
    "       solar_system.update_all()\n",
    "\n",
    "for  i in results:\n",
    "    a, b = list(i.keys()), list(i.values())\n",
    "    print(Vector(*a[0].position) - b[0])"
   ]
  },
  {
   "cell_type": "markdown",
   "metadata": {},
   "source": [
    "### orbital elements:\n"
   ]
  },
  {
   "cell_type": "code",
   "execution_count": 377,
   "metadata": {},
   "outputs": [
    {
     "name": "stdout",
     "output_type": "stream",
     "text": [
      "Earth' Orbital Elements\n",
      "Semi-major axis in AU: 1.0 (MPC: 2.77)\n",
      "Perihelion in AU: 0.98 (MPC: 2.55)\n",
      "Eccentricity: 0.02 (MPC: 0.08)\n",
      "Inclination in degrees: 0.0 (MPC: 10.6)\n",
      "Long. of. asc. node in degrees: 174.0 (MPC: 80.3)\n",
      "Argument of perih. in degrees: 289.1 (MPC: 73.7)\n",
      "Orbit period in years: 1.0 (MPC: 4.60)\n",
      "State vector of Earth from the kernel:\n",
      "[ 1.43364129e+08  4.20909545e+07 -2.93621379e+03 -8.87557390e+00\n",
      "  2.84697814e+01 -1.41139746e-03]\n",
      "State vector of Earth based on the determined orbital elements:\n",
      "[ 1.43364129e+08  4.20909545e+07 -2.93621379e+03 -8.87557390e+00\n",
      "  2.84697814e+01 -1.41139746e-03]\n"
     ]
    }
   ],
   "source": [
    "import numpy as np\n",
    "\n",
    "## orbital elements:\n",
    "DATE_TODAY = datetime.datetime.today() # or datetime.datetime.now()\n",
    "midnight = DATE_TODAY.strftime('%Y-%m-%dT00:00:00')\n",
    "ET_TODAY_MIDNIGHT = spiceypy.utc2et(midnight)\n",
    "\n",
    "state_vector, _ = spiceypy.spkgeo(targ=3, et=ET_TODAY_MIDNIGHT, ref='ECLIPJ2000',obs=10)\n",
    "_, gm_sun_pre = spiceypy.bodvcd(bodyid=10, item='GM', maxn=1)\n",
    "\n",
    "gm_sun = gm_sun_pre[0]\n",
    "orbital_elements = spiceypy.oscltx(state=state_vector, et=ET_TODAY_MIDNIGHT, mu=gm_sun)\n",
    "\n",
    "# Set and convert the semi-major axis and perihelion from km to AU\n",
    "semi_major_au = spiceypy.convrt(orbital_elements[9], \\\n",
    "                                      inunit='km', outunit='AU')\n",
    "perihelion_au = spiceypy.convrt(orbital_elements[0], \\\n",
    "                                      inunit='km', outunit='AU')\n",
    "\n",
    "# Set the eccentricity\n",
    "ecc = orbital_elements[1]\n",
    "\n",
    "# Set and convert miscellaneous angular values from radians to degrees:\n",
    "# inc: Inclination\n",
    "# lnode: Longitude of ascending node\n",
    "# argp: Argument of perihelion\n",
    "inc_deg = np.degrees(orbital_elements[2])\n",
    "lnode_deg = np.degrees(orbital_elements[3])\n",
    "argp_deg = np.degrees(orbital_elements[4])\n",
    "\n",
    "# Set the orbit period. Convert from seconds to years\n",
    "orb_time_years = orbital_elements[10] / (86400.0 * 365.0)\n",
    "\n",
    "\n",
    "print('Earth\\' Orbital Elements')\n",
    "print(f'Semi-major axis in AU: {round(semi_major_au, 2)} (MPC: 2.77)')\n",
    "print(f'Perihelion in AU: {round(perihelion_au, 2)} (MPC: 2.55)')\n",
    "print(f'Eccentricity: {round(ecc, 2)} (MPC: 0.08)')\n",
    "print(f'Inclination in degrees: {round(inc_deg, 1)} (MPC: 10.6)')\n",
    "print(f'Long. of. asc. node in degrees: {round(lnode_deg, 1)} ' '(MPC: 80.3)')\n",
    "print(f'Argument of perih. in degrees: {round(argp_deg, 1)} ' '(MPC: 73.7)')\n",
    "print(f'Orbit period in years: {round(orb_time_years, 2)} ' '(MPC: 4.60)')\n",
    "\n",
    "# Convert the orbital elements back to the state vector\n",
    "state_re = spiceypy.conics([*orbital_elements[:7], gm_sun], ET_TODAY_MIDNIGHT)\n",
    "print('State vector of Earth from the kernel:\\n' f'{state_vector}')\n",
    "print('State vector of Earth based on the determined orbital elements:\\n' f'{state_re}')\n",
    "\n",
    "#Horizons(399).elements()[\"P\"]\n",
    "#for i in orbital_elements:\n",
    "#    print(i)\n"
   ]
  }
 ],
 "metadata": {
  "kernelspec": {
   "display_name": "Python 3.10.4 64-bit",
   "language": "python",
   "name": "python3"
  },
  "language_info": {
   "codemirror_mode": {
    "name": "ipython",
    "version": 3
   },
   "file_extension": ".py",
   "mimetype": "text/x-python",
   "name": "python",
   "nbconvert_exporter": "python",
   "pygments_lexer": "ipython3",
   "version": "3.10.4"
  },
  "orig_nbformat": 4,
  "vscode": {
   "interpreter": {
    "hash": "26de051ba29f2982a8de78e945f0abaf191376122a1563185a90213a26c5da77"
   }
  }
 },
 "nbformat": 4,
 "nbformat_minor": 2
}
