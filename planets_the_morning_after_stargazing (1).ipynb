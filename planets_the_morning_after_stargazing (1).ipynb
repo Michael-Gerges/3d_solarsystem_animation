{
 "cells": [
  {
   "cell_type": "code",
   "execution_count": 1,
   "metadata": {},
   "outputs": [],
   "source": [
    "import numpy as np\n",
    "import matplotlib.pyplot as plt\n",
    "import matplotlib.animation as animation\n",
    "from astropy.time import Time\n",
    "from astroquery.jplhorizons import Horizons"
   ]
  },
  {
   "cell_type": "markdown",
   "metadata": {},
   "source": [
    "### what info can we get out of that system:"
   ]
  },
  {
   "cell_type": "code",
   "execution_count": null,
   "metadata": {},
   "outputs": [],
   "source": [
    "## get current information about jupiter\n",
    "\n",
    "print(Horizons(id=5, location=\"@sun\").elements().columns)  ## no epochs means now @sun means relative to the sun\n",
    "print(Horizons(id=5, location=\"@sun\").ephemerides().columns)   ## no epochs means now   ## check columns explainaiton here: https://ssd.jpl.nasa.gov/horizons/manual.html#observer-table  and check help(Horizons)\n",
    "print(Horizons(id=5, location=\"@sun\").vectors().columns)   ## no epochs means now"
   ]
  },
  {
   "cell_type": "code",
   "execution_count": null,
   "metadata": {},
   "outputs": [],
   "source": [
    "jupiter_sun_vectors_for_a_period_of_time = Horizons(id=5, location=\"@sun\", epochs = {'start': '2022-09-27 ', 'stop': '2022-09-28 ', 'step': \"1h\"}).vectors()\n",
    "#cor1x, cor1y  = jupiter_sun_vectors_for_a_period_of_time[\"x\"].value, jupiter_sun_vectors_for_a_period_of_time[\"y\"].value\n",
    "#cor1x\n",
    "\n",
    "print(jupiter_sun_vectors_for_a_period_of_time[10]) # print the info I have at 10 o'clock UTC\n",
    "print(jupiter_sun_vectors_for_a_period_of_time[\"datetime_str\"][10])   # print the time at 10 UTC o'clock, which you guessed it 10, lol \n"
   ]
  },
  {
   "cell_type": "code",
   "execution_count": null,
   "metadata": {},
   "outputs": [],
   "source": [
    "'''  In vectors()    The ``location`` parameter in ``HorizonsClass`` refers in this case to\n",
    " |      the center body relative to which the vectors are provided i,e. the SUN.'''\n",
    "\n",
    "jupiter_now = Horizons(id=5, location=\"@sun\").vectors()\n",
    "print(jupiter_now[\"x\"].value, jupiter_now[\"y\"].value,  jupiter_now[\"z\"].value)  # jupiter sun vector"
   ]
  },
  {
   "cell_type": "code",
   "execution_count": null,
   "metadata": {},
   "outputs": [],
   "source": [
    "\n",
    "'''If no location is provided, Earth's center is used for\n",
    " |          ephemerides queries and the Sun's center for elements and vectors\n",
    " |          queries.'''\n",
    "\n",
    "\n",
    "jupiter_sun_vectors_for_a_period_of_time = Horizons(id=5, location=\"@sun\", epochs = {'start': '2022-09-27 ', 'stop': '2022-09-28 ', 'step': \"1h\"}).vectors()\n",
    "\n",
    "print(jupiter_sun_vectors_for_a_period_of_time[\"x\"][10])   # print the time at 10 o'clock, which you guessed it 10, lol \n",
    "print(jupiter_sun_vectors_for_a_period_of_time[\"y\"][10])  \n",
    "print(jupiter_sun_vectors_for_a_period_of_time[\"z\"][10])  \n",
    "\n",
    "\n",
    "\n",
    "jupiter_sun_vectors_for_a_period_of_time_2 = Horizons(id=5,  epochs = {'start': '2022-09-27 ', 'stop': '2022-09-28 ', 'step': \"1h\"}).vectors()\n",
    "\n",
    "print(jupiter_sun_vectors_for_a_period_of_time_2[\"x\"][10])   # print the time at 10 o'clock, which you guessed it 10, lol \n",
    "print(jupiter_sun_vectors_for_a_period_of_time_2[\"y\"][10])  \n",
    "print(jupiter_sun_vectors_for_a_period_of_time_2[\"z\"][10])  \n",
    "\n",
    "\n",
    "\n",
    "'''\n",
    "we get the same result as the location was not passed the second time but since it is a vectors queries, sun was used and we get the same as when sun was specified\n",
    "'''"
   ]
  },
  {
   "cell_type": "markdown",
   "metadata": {},
   "source": [
    "### My stargazing trip  \n",
    "\n",
    "\n",
    "### Apparent azimuth and elevation of target. Adjusted for light-time, the gravitational deflection of light, stellar aberration, precession and nutation. There is an optional (approximate) adjustment for atmospheric refraction (Earth only). Azimuth is measured clockwise from north:\n",
    "\n",
    "### Mathematically, the relative position vector from an observer (origin) to a point of interest is projected perpendicularly onto a reference plane (the horizontal plane); the angle between the projected vector and a reference vector on the reference plane is called the azimuth.\n",
    "\n",
    "### When used as a celestial coordinate, the azimuth is the horizontal direction of a star or other astronomical object in the sky. The star is the point of interest, the reference plane is the local area (e.g. a circular area with a 5 km radius at sea level) around an observer on Earth's surface, and the reference vector points to true north. The azimuth is the angle between the north vector and the star's vector on the horizontal plane.[2]"
   ]
  },
  {
   "cell_type": "code",
   "execution_count": 52,
   "metadata": {},
   "outputs": [
    {
     "name": "stdout",
     "output_type": "stream",
     "text": [
      "Jupiter 2022-Sep-26 22:45 Azimuth =  88.840899\n",
      "Jupiter 2022-Sep-26 22:45 Elevation =  -1.361486\n",
      "Jupiter 2022-Sep-26 22:46 Azimuth =  89.006375\n",
      "Jupiter 2022-Sep-26 22:46 Elevation =  -1.173028\n",
      "Jupiter 2022-Sep-26 22:47 Azimuth =  89.171829\n",
      "Jupiter 2022-Sep-26 22:47 Elevation =  -0.984561\n",
      "Jupiter 2022-Sep-26 22:48 Azimuth =  89.337265\n",
      "Jupiter 2022-Sep-26 22:48 Elevation =  -0.796086\n",
      "Jupiter 2022-Sep-26 22:49 Azimuth =  89.502687\n",
      "Jupiter 2022-Sep-26 22:49 Elevation =  -0.607604\n",
      "Jupiter 2022-Sep-26 22:50 Azimuth =  89.668097\n",
      "Jupiter 2022-Sep-26 22:50 Elevation =  -0.419118\n",
      "Jupiter 2022-Sep-26 22:51 Azimuth =  89.833499\n",
      "Jupiter 2022-Sep-26 22:51 Elevation =  -0.230628\n",
      "Jupiter 2022-Sep-26 22:52 Azimuth =  89.998898\n",
      "Jupiter 2022-Sep-26 22:52 Elevation =  -0.042137\n",
      "Jupiter 2022-Sep-26 22:53 Azimuth =  90.164296\n",
      "Jupiter 2022-Sep-26 22:53 Elevation =  0.146354\n",
      "Jupiter 2022-Sep-26 22:54 Azimuth =  90.329697\n",
      "Jupiter 2022-Sep-26 22:54 Elevation =  0.334843\n",
      "Jupiter 2022-Sep-26 22:55 Azimuth =  90.495105\n",
      "Jupiter 2022-Sep-26 22:55 Elevation =  0.523329\n"
     ]
    }
   ],
   "source": [
    "'''I went to https://thedigestonline.com/nj/best-places-to-stargaze-in-new-jersey-2020/\n",
    "\n",
    "2. High Point State Park\n",
    "Sussex, NJ\n",
    "Light Pollution: .23\n",
    "\n",
    "\n",
    "deckertown Turnpike, Montague Township, NJ 07827, United States of America\n",
    "Latitude : 41.257903 | Longitude : -74.734566\n",
    "\n",
    "Latitude:  Decimal degrees 41.2579028        Degrees, Minutes, Seconds 41 15 28.45 \n",
    "Longitude: Decimal degrees -74.7345663888889 Degrees, Minutes, Seconds 74 44 4.439\n",
    "Altitude = 347.02294557097116 meter ''' \n",
    "\n",
    "\n",
    "\n",
    "mylocation_dicto = {}\n",
    "mylocation_dicto[\"lat\"] = 41.2579028\n",
    "mylocation_dicto[\"lon\"] = -74.73456666666667  # west is negative\n",
    "mylocation_dicto[\"elevation\"] = 0.34702294557097116  # in km\n",
    "#mylocation_dicto[\"body\"] = # optional; earth lon lat and elevaiton is assumed i,e. I was on earth \n",
    "\n",
    "\n",
    "# the historical rise \n",
    "jupiter = Horizons(id=5, location=mylocation_dicto, epochs = {'start': '2022-09-26 22:45', 'stop': '2022-09-26 22:55', 'step': \"1m\"}).ephemerides()   # 4 hours diff between newyork and utc\n",
    "\n",
    "\n",
    "for i in range(len(jupiter)):\n",
    "    print(jupiter[\"targetname\"][i][:7] , jupiter[\"datetime_str\"][i] , \"Azimuth = \",jupiter[\"AZ\"][i])  # around 90 (east) as it in  oppostion with the sun that is setting in the west\n",
    "    print(jupiter[\"targetname\"][i][:7] , jupiter[\"datetime_str\"][i] ,\"Elevation = \", jupiter[\"EL\"][i])   # it rose from negative to positive \n",
    "\n",
    "    "
   ]
  },
  {
   "cell_type": "markdown",
   "metadata": {},
   "source": [
    "### the distance between Jupiter and earth at its closest and its furthest"
   ]
  },
  {
   "cell_type": "code",
   "execution_count": 56,
   "metadata": {},
   "outputs": [
    {
     "name": "stdout",
     "output_type": "stream",
     "text": [
      "4.944930705487724 0.2934055532916758 -0.1118527135351821\n",
      "1.000555964714638 0.06236022258147902 -8.658307005190546e-06\n"
     ]
    }
   ],
   "source": [
    "## distance between jupiter and earth on '2022-09-27' and around half a year later: \n",
    "############### n.b. Jupiter revolve around the sun 13 times slower than earth so oppostion happens every 13 month, \n",
    "############### so I checked 6 month and a half later to check if  it is on the opposite side of the sun\n",
    "\n",
    "\n",
    "jup_vec = Horizons(id=5, location=\"@sun\", epochs = {'start': '2022-09-27 ', 'stop': '2022-09-28 ', 'step': \"1h\"}).vectors()\n",
    "ear_vec =  Horizons(id=3, location=\"@sun\", epochs = {'start': '2022-09-27 ', 'stop': '2022-09-28 ', 'step': \"1h\"}).vectors()\n",
    "\n",
    "x1_coords, y1_coords, z1_coords = jup_vec[\"x\"][0], jup_vec[\"y\"][0], jup_vec[\"z\"][0]\n",
    "x2_coords, y2_coords, z2_coords =  ear_vec[\"x\"][0], ear_vec[\"y\"][0], ear_vec[\"z\"][0] \n",
    "\n",
    "import numpy as np\n",
    "\n",
    "p1 = np.array([x1_coords, y1_coords, z1_coords])\n",
    "p2 = np.array([x2_coords, y2_coords, z2_coords])\n",
    "\n",
    "squared_dist = np.sum((p1-p2)**2, axis=0)\n",
    "dist = np.sqrt(squared_dist)\n",
    "print(dist)\n",
    "\n",
    "\n",
    "## distance between the two victors is  = 3.952718  (in astronomical units)\n",
    "# and because of the oppostion:  distence between jupiter and sun minus distence between earth and sun is:::: \n",
    "\n",
    "jup_vec[\"range\"][0] - ear_vec[\"range\"][0]  # = 3.9523928647253004  cuz earth is between jupiter and the sun  \n"
   ]
  },
  {
   "cell_type": "code",
   "execution_count": 69,
   "metadata": {},
   "outputs": [
    {
     "name": "stdout",
     "output_type": "stream",
     "text": [
      "5.954884987456129\n",
      "5.955093083449892\n"
     ]
    }
   ],
   "source": [
    "# after 6 and half month from now earth should have gone to the other side and the distences should be added not subtracted 2022-09-27 + 6 month and 15 days = 2023-4-12\n",
    "\n",
    "\n",
    "jup_vec = Horizons(id=5, location=\"@sun\", epochs = {'start': '2023-4-12 ', 'stop': '2023-4-13 ', 'step': \"1h\"}).vectors()\n",
    "ear_vec  = Horizons(id=3, location=\"@sun\", epochs = {'start': '2023-4-12 ', 'stop': '2023-4-13 ', 'step': \"1h\"}).vectors()\n",
    "\n",
    "x1_coords, y1_coords, z1_coords = jup_vec[\"x\"][0], jup_vec[\"y\"][0], jup_vec[\"z\"][0]\n",
    "x2_coords, y2_coords, z2_coords =  ear_vec[\"x\"][0], ear_vec[\"y\"][0], ear_vec[\"z\"][0] \n",
    "import numpy as np\n",
    "p1 = np.array([x1_coords, y1_coords, z1_coords])\n",
    "p2 = np.array([x2_coords, y2_coords, z2_coords])\n",
    "\n",
    "squared_dist = np.sum((p1-p2)**2, axis=0)\n",
    "dist = np.sqrt(squared_dist)\n",
    "print(dist)\n",
    "\n",
    "\n",
    "### here it is a plus cuz we added the distence between each planet and the sun to calculate how far away they are form each other\n",
    "\n",
    "print(jup_vec[\"range\"][0]  + ear_vec[\"range\"][0]  )  # 5.955093083449892  Yaaaay, we got a match"
   ]
  },
  {
   "cell_type": "markdown",
   "metadata": {},
   "source": [
    "### Visibility of jupiter and its ang_width"
   ]
  },
  {
   "cell_type": "code",
   "execution_count": null,
   "metadata": {},
   "outputs": [],
   "source": [
    "# V is for visibility visa visa visibility \n",
    "\n",
    "jupiter_sun_vectors_for_a_period_of_time = Horizons(id=5, location=mylocation_dicto, epochs = {'start': '2022-09-27 ', 'stop': '2022-09-28 ', 'step': \"1h\"}).ephemerides()\n",
    "print(jupiter_sun_vectors_for_a_period_of_time[\"V\"][5]) # at 5 O'clock UTC  # the good visibility \n",
    "jupiter_sun_vectors_for_a_period_of_time = Horizons(id=5, location=mylocation_dicto, epochs = {'start': '2023-4-12 ', 'stop': '2023-4-13 ', 'step': \"1h\"}).ephemerides()\n",
    "print(jupiter_sun_vectors_for_a_period_of_time[\"V\"][5]) # at 5 O'clock UTC # it should be very close to Sun, and not visible\n",
    "\n",
    "\n",
    "# ang_width: \n",
    "jupiter_sun_vectors_for_a_period_of_time = Horizons(id=5, location=mylocation_dicto, epochs = {'start': '2022-09-27 ', 'stop': '2022-09-28 ', 'step': \"1h\"}).ephemerides()\n",
    "print(jupiter_sun_vectors_for_a_period_of_time[\"ang_width\"][5]) # at 5 O'clock UTC # the good visibility \n",
    "jupiter_sun_vectors_for_a_period_of_time = Horizons(id=5, location=mylocation_dicto, epochs = {'start': '2023-4-12 ', 'stop': '2023-4-13 ', 'step': \"1h\"}).ephemerides()\n",
    "print(jupiter_sun_vectors_for_a_period_of_time[\"ang_width\"][5]) # at 5 O'clock UTC # it should be very close to Sun, and not visible\n",
    "\n"
   ]
  },
  {
   "cell_type": "markdown",
   "metadata": {},
   "source": [
    "### compare all planets visibility (the lower the better it needs to be at least +5) "
   ]
  },
  {
   "cell_type": "code",
   "execution_count": 86,
   "metadata": {},
   "outputs": [
    {
     "name": "stdout",
     "output_type": "stream",
     "text": [
      "Solar System Barycenter (0) visibility is =  -26.756\n",
      "Mercury Barycenter (199) visibility is =  3.503\n",
      "Venus Barycenter (299) visibility is =  -3.92\n",
      "Mars Barycenter (4) visibility is =  -0.521\n",
      "Jupiter Barycenter (5) visibility is =  -2.935\n",
      "Saturn Barycenter (6) visibility is =  0.517\n",
      "Uranus Barycenter (7) visibility is =  5.699\n",
      "Neptune Barycenter (8) visibility is =  7.686\n"
     ]
    }
   ],
   "source": [
    "for i in range(9):\n",
    "    try:\n",
    "        jupiter_sun_vectors_for_a_period_of_time = Horizons(id=i, location=mylocation_dicto, epochs = {'start': '2022-09-27 ', 'stop': '2022-09-28 ', 'step': \"1h\"}).ephemerides()\n",
    "        print(jupiter_sun_vectors_for_a_period_of_time[\"targetname\"][3], \"visibility is = \", jupiter_sun_vectors_for_a_period_of_time[\"V\"][3])\n",
    "    except:\n",
    "        continue  # just to skip earth Error\n",
    "     "
   ]
  },
  {
   "cell_type": "markdown",
   "metadata": {},
   "source": [
    "### check if yesterday was the best time to see jupiter by comparing its visibility throughout the years"
   ]
  },
  {
   "cell_type": "code",
   "execution_count": null,
   "metadata": {},
   "outputs": [],
   "source": [
    "# start of the century  = 2451815.5  which is 00:00 on 2000-09-28 \n",
    "# end   of the century = 2488339.5  which is 00:00 on 2100-09-28 \n",
    "\n",
    "vislist = []\n",
    "for i in range(2451815,2488339): # 36524 days in the century \n",
    "    jupiter_sun_vectors_for_a_period_of_time = Horizons(id=5, location=mylocation_dicto, epochs = i).ephemerides()\n",
    "    vis = jupiter_sun_vectors_for_a_period_of_time[\"datetime_str\"][0] \n",
    "    print(jupiter_sun_vectors_for_a_period_of_time[\"V\"][0])\n",
    "    print(vis)\n",
    "    vislist.append(vis)\n",
    "\n",
    "\n",
    "print(max(vislist))\n"
   ]
  },
  {
   "cell_type": "code",
   "execution_count": null,
   "metadata": {},
   "outputs": [],
   "source": [
    "## the whole century would take too long to calculate, I will just check form 2015 to 2025 \n",
    "vislist = []\n",
    "current_min = 0\n",
    "bestdate = \"\"\n",
    "\n",
    "## to check roughly between 2015 and 2025 \n",
    "for i in range(2451815 + (15*365),2451815+(25*365),3):\n",
    "    jupiter_sun_vectors_for_a_period_of_time = Horizons(id=5, location=mylocation_dicto, epochs = i).ephemerides()\n",
    "    datee = jupiter_sun_vectors_for_a_period_of_time[\"datetime_str\"][0] \n",
    "    vis = jupiter_sun_vectors_for_a_period_of_time[\"V\"][0]\n",
    "    #print(datee, vis)\n",
    "    \n",
    "    vislist.append(vis)\n",
    "    if current_min== 0 :\n",
    "        current_min = vis\n",
    "    elif current_min >= vis:\n",
    "        current_min = vis\n",
    "        bestdate = datee\n",
    "\n",
    "\n",
    "\n",
    "\n",
    "bestdate  ## I actually got '2022-Sep-28 12:00:00.000' .... not very bad lol \n",
    "\n"
   ]
  },
  {
   "cell_type": "code",
   "execution_count": null,
   "metadata": {},
   "outputs": [],
   "source": [
    "## let's see why I got the 28th instead of the 26th that NASA said??!\n",
    "\n",
    "jupiter_sun_vectors_for_a_period_of_time = Horizons(id=5, location=mylocation_dicto, epochs = {'start': '2022-09-23 ', 'stop': '2022-10-05 ', 'step': \"1d\"}).ephemerides()\n",
    "for i in range(len(jupiter_sun_vectors_for_a_period_of_time)):\n",
    "    print(  jupiter_sun_vectors_for_a_period_of_time[\"datetime_str\"][i]  ,    jupiter_sun_vectors_for_a_period_of_time[\"V\"][i])\n",
    "\n",
    "\n",
    "\n",
    "### it turns out to be NASA's fault not mine, lol"
   ]
  },
  {
   "cell_type": "markdown",
   "metadata": {},
   "source": [
    "### oppositon angle"
   ]
  },
  {
   "cell_type": "code",
   "execution_count": null,
   "metadata": {},
   "outputs": [],
   "source": [
    "## to check about the oppositon fact check the angle which is S-O-T Sun-Observer-Target apparent SOLAR ELONGATION ANGLE\n",
    "## pm 9/26 its almost 180 deg while 6 month later its 0 and its 90 in between\n",
    "\n",
    "jupiter_sun_vectors_for_a_period_of_time = Horizons(id=5, location=mylocation_dicto, epochs = {'start': '2022-09-23 ', 'stop': '2022-10-05 ', 'step': \"1d\"}).ephemerides()\n",
    "for i in range(len(jupiter_sun_vectors_for_a_period_of_time)):\n",
    "    print(  jupiter_sun_vectors_for_a_period_of_time[\"datetime_str\"][i]  ,    jupiter_sun_vectors_for_a_period_of_time[\"elong\"][i])"
   ]
  },
  {
   "cell_type": "code",
   "execution_count": 65,
   "metadata": {},
   "outputs": [
    {
     "name": "stdout",
     "output_type": "stream",
     "text": [
      "2022-Sep-29 14:59 116.571309 -0.049837\n",
      "2022-Sep-30 00:42 240.282364 0.917678\n"
     ]
    }
   ],
   "source": [
    "earth_moon = Horizons(id=301, location=292, epochs = {'start': '2022-09-29 14:59', 'stop': '2022-09-29 15:01', 'step': \"1m\"}).ephemerides()  # id 301 is the moon and locaiton 292 is Burlington Observatory in NJ\n",
    "\n",
    "#for i in earth_moon.columns:\n",
    "#    print(i, jupiter_sun_vectors_for_a_period_of_time[i][0])  \n",
    "\n",
    "\n",
    "#for col in earth_moon.columns:\n",
    "#    print(col, earth_moon[col][4])\n",
    "\n",
    "\n",
    "print(earth_moon[\"datetime_str\"][0], earth_moon['AZ'][i], (earth_moon['EL'][0]))\n",
    "\n",
    "'''\n",
    "I got \n",
    "2022-Sep-29 14:59 116.25295 -0.049837 15:00 PM Thursday (UTC) is 11:00 AM Thursday, in New York, NY'''\n",
    "\n",
    "# when I looked it up online I got Moonrise Today 2022-09-29:\t10:52 am↑ 116° Southeast  and  Moonset Today:\t8:45 pm↑ 242° Southwest\n",
    "\n",
    "\n",
    "earth_moon = Horizons(id=301, location=292, epochs = {'start': '2022-09-30 00:40', 'stop': '2022-09-30 00:50', 'step': \"1m\"}).ephemerides()\n",
    "print(earth_moon[\"datetime_str\"][i], earth_moon['AZ'][0], (earth_moon['EL'][0]))\n",
    "\n",
    "###  not very bad"
   ]
  }
 ],
 "metadata": {
  "kernelspec": {
   "display_name": "Python 3.10.5 64-bit",
   "language": "python",
   "name": "python3"
  },
  "language_info": {
   "codemirror_mode": {
    "name": "ipython",
    "version": 3
   },
   "file_extension": ".py",
   "mimetype": "text/x-python",
   "name": "python",
   "nbconvert_exporter": "python",
   "pygments_lexer": "ipython3",
   "version": "3.10.5"
  },
  "orig_nbformat": 4,
  "vscode": {
   "interpreter": {
    "hash": "f374b6a994afbe7056ea01b5aaccf89d37ab93931f6db91530df029c025eec7b"
   }
  }
 },
 "nbformat": 4,
 "nbformat_minor": 2
}
